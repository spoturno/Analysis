{
 "cells": [
  {
   "cell_type": "markdown",
   "metadata": {},
   "source": [
    "# Calculation of derivatives by incremental quotients"
   ]
  },
  {
   "cell_type": "markdown",
   "metadata": {},
   "source": [
    "Let f be a real funcion $\\ f(x): \\mathbb R \\rightarrow \\mathbb R,f\\in\\ C^2$ let's remember the definition of first derivative"
   ]
  },
  {
   "cell_type": "markdown",
   "metadata": {},
   "source": [
    "$$f'(a) = \\lim_{h \\to 0} \\frac{f(x+h) - f(x)}{h}$$"
   ]
  },
  {
   "cell_type": "markdown",
   "metadata": {},
   "source": [
    "It's not possible to calculate limits numerically, therefore, it is necesarry to estimate it. We will see below, different ways to carry out this approach. To calculate it numerically, aproximations are made, such as the incremental quotient $\\Delta_f(x),h$ for a small step $h \\in \\mathbb R^+$\n",
    "\n",
    "Also, we'll analize the mistakes made when computing this problem. There are two sources of error that we will analyze:\n",
    "- The error due to not working without infinite precision, which we will call rounding error\n",
    "- The eror due to truncation of taylor infinite series, which we will call the truncation error."
   ]
  },
  {
   "cell_type": "markdown",
   "metadata": {},
   "source": [
    "### 1 - Forward difference\n",
    "This aproximations consist of aproximating the funcion derivative as the incremental quotient. Using the point itself $x$ and $+h$ "
   ]
  },
  {
   "cell_type": "markdown",
   "metadata": {},
   "source": [
    "$$\\Delta_f(x),h = \\lim_{h \\to 0} \\frac{f(x+h) - f(x)}{h}$$"
   ]
  },
  {
   "cell_type": "markdown",
   "metadata": {},
   "source": [
    "Now we will calculate an upper bound for the absolute error between the real value of the derivative and the floating point representation of the incremental quotient."
   ]
  },
  {
   "cell_type": "markdown",
   "metadata": {},
   "source": [
    "$$Error_{absolute} = \\left |{f'(x)- \\frac{FP(f(x+h)) - FP(f(x))}{h}} \\right | $$"
   ]
  },
  {
   "cell_type": "markdown",
   "metadata": {},
   "source": [
    "$$\\cdots = \\left | {f'(x) - \\Delta_f(x),h + \\Delta_f(x),h - \\frac{FP(f(x+h)) - FP(f(x))}{h}} \\right | $$"
   ]
  },
  {
   "cell_type": "markdown",
   "metadata": {},
   "source": [
    "$$\\cdots \\leq \\left | f'(x) - \\Delta_f(x),h \\right | + \\left | \\Delta_f(x),h - \\frac{FP(f(x+h)) - FP(f(x))}{h} \\right |$$"
   ]
  },
  {
   "cell_type": "markdown",
   "metadata": {},
   "source": [
    "$$Error_{absolute} \\leq Error_{trunc} + Error_{FP} $$"
   ]
  },
  {
   "cell_type": "markdown",
   "metadata": {},
   "source": [
    "This error has two components, the first is because of the truncation of desired terms in taylor series, the other is the floating point representation error."
   ]
  },
  {
   "cell_type": "markdown",
   "metadata": {},
   "source": [
    "#### Truncation Error\n",
    "Taylor series in point $x$, using Lagrange's expresion for the rest:\n",
    "$$ f(x+y) = f(x) + f'(x)h + f''(c)\\frac{h^2}{2} \\hspace{1cm} c \\in [x, x+h].$$\n",
    "So, we can clear the quotient of the $h$ step:\n",
    "$$ \\Delta_f(x),h - f'(x) = \\frac{f(x+h) - f(x)}{h} - f'(x) = f''(c)\\frac{h}{2}$$\n",
    "So, we get a good aproximation for truncation error:\n",
    "$$Error_{trunc} = \\frac{|f''(c)|}{2}h \\approx \\frac{|f''(x)|}{2}h $$"
   ]
  },
  {
   "cell_type": "markdown",
   "metadata": {},
   "source": [
    "It is concluded that the truncating error is of order h. This means that the error linearly decreases as h decreases. In the above reasoning, the last aproximation is based on assuming that $f''$ does not change too much between $x$. This hipotesis is not always valid, but It will be if we ask $f''$ to be continous $(f \\in C^2)$"
   ]
  },
  {
   "cell_type": "code",
   "execution_count": null,
   "metadata": {},
   "outputs": [],
   "source": []
  }
 ],
 "metadata": {
  "kernelspec": {
   "display_name": "Python 2",
   "language": "python",
   "name": "python2"
  },
  "language_info": {
   "codemirror_mode": {
    "name": "ipython",
    "version": 2
   },
   "file_extension": ".py",
   "mimetype": "text/x-python",
   "name": "python",
   "nbconvert_exporter": "python",
   "pygments_lexer": "ipython2",
   "version": "2.7.18"
  }
 },
 "nbformat": 4,
 "nbformat_minor": 2
}
